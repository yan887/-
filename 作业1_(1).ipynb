{
  "cells": [
    {
      "cell_type": "markdown",
      "metadata": {
        "id": "view-in-github",
        "colab_type": "text"
      },
      "source": [
        "<a href=\"https://colab.research.google.com/github/yan887/-/blob/main/%E4%BD%9C%E4%B8%9A1_(1).ipynb\" target=\"_parent\"><img src=\"https://colab.research.google.com/assets/colab-badge.svg\" alt=\"Open In Colab\"/></a>"
      ]
    },
    {
      "cell_type": "markdown",
      "metadata": {
        "id": "LW8wRFoNOr2N"
      },
      "source": [
        "# 作业1"
      ]
    },
    {
      "cell_type": "markdown",
      "metadata": {
        "id": "drmqEiTvO2xd"
      },
      "source": [
        "1绘制计算图"
      ]
    },
    {
      "cell_type": "code",
      "execution_count": 3,
      "metadata": {
        "id": "K4JlxQZzPHxo"
      },
      "outputs": [],
      "source": [
        "# prompt:   x\n",
        "#   ↓ (exp)\n",
        "#   a = e^x\n",
        "#   ↓ (+5)\n",
        "#   b = a + 5\n",
        "#   ↓ (log)\n",
        "#   y = log(b)\n"
      ]
    },
    {
      "cell_type": "markdown",
      "metadata": {
        "id": "e6bXeftnPNoe"
      },
      "source": [
        "2. 反向传播计算"
      ]
    },
    {
      "cell_type": "markdown",
      "metadata": {
        "id": "hCZKmSJPcUwZ"
      },
      "source": [
        "$∂𝑦/∂𝑏=1/𝑏$"
      ]
    },
    {
      "cell_type": "markdown",
      "metadata": {
        "id": "gHQ5xDCZcUwZ"
      },
      "source": [
        "$∂𝑏/∂𝑎=1$"
      ]
    },
    {
      "cell_type": "markdown",
      "metadata": {
        "id": "eFvj-_WXcUwZ"
      },
      "source": [
        "$∂x/∂a​ =e ^x$"
      ]
    },
    {
      "cell_type": "markdown",
      "metadata": {
        "id": "9LVqhckocUwZ"
      },
      "source": [
        "$∂𝑦/∂𝑥=∂𝑦/∂𝑏⋅∂𝑏/∂𝑎⋅∂𝑎/∂𝑥=1/𝑏⋅1⋅𝑒^𝑥=𝑒^𝑥/𝑒^𝑥+5$"
      ]
    },
    {
      "cell_type": "markdown",
      "metadata": {
        "id": "Lpl9gPsDcUwZ"
      },
      "source": [
        "$a=e ^5≈148.413$"
      ]
    },
    {
      "cell_type": "markdown",
      "metadata": {
        "id": "-nnjTLdycUwa"
      },
      "source": [
        "$𝑏=𝑎+5=148.413+5=153.413$"
      ]
    },
    {
      "cell_type": "markdown",
      "metadata": {
        "id": "J1ejDFfWcUwa"
      },
      "source": [
        "$∂x/∂y​ = e ^5/153.413 = 148.413/153.413 ≈0.9674$"
      ]
    },
    {
      "cell_type": "markdown",
      "metadata": {
        "id": "jwhelRk_QR2C"
      },
      "source": [
        "3. 使用 PyTorch 自动求导验证结果"
      ]
    },
    {
      "cell_type": "code",
      "execution_count": 2,
      "metadata": {
        "colab": {
          "base_uri": "https://localhost:8080/"
        },
        "id": "y1QqCGSsQiiS",
        "outputId": "145cf227-6f32-402c-d664-f085886c2ff8"
      },
      "outputs": [
        {
          "output_type": "execute_result",
          "data": {
            "text/plain": [
              "tensor(0.9674)"
            ]
          },
          "metadata": {},
          "execution_count": 2
        }
      ],
      "source": [
        "import torch\n",
        "\n",
        "# 定义变量\n",
        "x = torch.tensor(5.0, requires_grad=True)\n",
        "\n",
        "# 定义函数\n",
        "y = torch.log(torch.exp(x) + 5)\n",
        "\n",
        "# 反向传播计算梯度\n",
        "y.backward()\n",
        "\n",
        "# 输出梯度\n",
        "x.grad\n"
      ]
    },
    {
      "cell_type": "code",
      "execution_count": null,
      "metadata": {
        "id": "J8VTChNccUwa"
      },
      "outputs": [],
      "source": []
    }
  ],
  "metadata": {
    "colab": {
      "provenance": [],
      "gpuType": "T4",
      "include_colab_link": true
    },
    "kernelspec": {
      "display_name": "Python 3",
      "name": "python3"
    },
    "language_info": {
      "codemirror_mode": {
        "name": "ipython",
        "version": 3
      },
      "file_extension": ".py",
      "mimetype": "text/x-python",
      "name": "python",
      "nbconvert_exporter": "python",
      "pygments_lexer": "ipython3",
      "version": "3.12.4"
    },
    "accelerator": "GPU"
  },
  "nbformat": 4,
  "nbformat_minor": 0
}